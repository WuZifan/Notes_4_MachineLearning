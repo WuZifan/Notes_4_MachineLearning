{
 "cells": [
  {
   "cell_type": "markdown",
   "metadata": {
    "toc": true
   },
   "source": [
    "<h1>Table of Contents<span class=\"tocSkip\"></span></h1>\n",
    "<div class=\"toc\" style=\"margin-top: 1em;\"><ul class=\"toc-item\"><li><span><a href=\"#前言\" data-toc-modified-id=\"前言-1\"><span class=\"toc-item-num\">1&nbsp;&nbsp;</span>前言</a></span></li><li><span><a href=\"#创建Numpy数组\" data-toc-modified-id=\"创建Numpy数组-2\"><span class=\"toc-item-num\">2&nbsp;&nbsp;</span>创建Numpy数组</a></span><ul class=\"toc-item\"><li><span><a href=\"#基于pythonlist的数组创建\" data-toc-modified-id=\"基于pythonlist的数组创建-2.1\"><span class=\"toc-item-num\">2.1&nbsp;&nbsp;</span>基于pythonlist的数组创建</a></span></li><li><span><a href=\"#基于numpy方法生成常用数组\" data-toc-modified-id=\"基于numpy方法生成常用数组-2.2\"><span class=\"toc-item-num\">2.2&nbsp;&nbsp;</span>基于numpy方法生成常用数组</a></span></li><li><span><a href=\"#基于numpy方法生成等间距数组\" data-toc-modified-id=\"基于numpy方法生成等间距数组-2.3\"><span class=\"toc-item-num\">2.3&nbsp;&nbsp;</span>基于numpy方法生成等间距数组</a></span></li><li><span><a href=\"#根据概率分布生成数组\" data-toc-modified-id=\"根据概率分布生成数组-2.4\"><span class=\"toc-item-num\">2.4&nbsp;&nbsp;</span>根据概率分布生成数组</a></span></li></ul></li><li><span><a href=\"#切片\" data-toc-modified-id=\"切片-3\"><span class=\"toc-item-num\">3&nbsp;&nbsp;</span>切片</a></span><ul class=\"toc-item\"><li><span><a href=\"#python自带的list切片\" data-toc-modified-id=\"python自带的list切片-3.1\"><span class=\"toc-item-num\">3.1&nbsp;&nbsp;</span>python自带的list切片</a></span></li><li><span><a href=\"#numpy的切片\" data-toc-modified-id=\"numpy的切片-3.2\"><span class=\"toc-item-num\">3.2&nbsp;&nbsp;</span>numpy的切片</a></span></li></ul></li><li><span><a href=\"#引用\" data-toc-modified-id=\"引用-4\"><span class=\"toc-item-num\">4&nbsp;&nbsp;</span>引用</a></span><ul class=\"toc-item\"><li><span><a href=\"#修改切片导致原序列变化\" data-toc-modified-id=\"修改切片导致原序列变化-4.1\"><span class=\"toc-item-num\">4.1&nbsp;&nbsp;</span>修改切片导致原序列变化</a></span></li><li><span><a href=\"#利用copy()函数获得备份\" data-toc-modified-id=\"利用copy()函数获得备份-4.2\"><span class=\"toc-item-num\">4.2&nbsp;&nbsp;</span>利用copy()函数获得备份</a></span></li></ul></li><li><span><a href=\"#数据的修改，转化和规整\" data-toc-modified-id=\"数据的修改，转化和规整-5\"><span class=\"toc-item-num\">5&nbsp;&nbsp;</span>数据的修改，转化和规整</a></span><ul class=\"toc-item\"><li><span><a href=\"#对list做加减乘除操作\" data-toc-modified-id=\"对list做加减乘除操作-5.1\"><span class=\"toc-item-num\">5.1&nbsp;&nbsp;</span>对list做加减乘除操作</a></span></li><li><span><a href=\"#对numpy的数组做加减乘除操作\" data-toc-modified-id=\"对numpy的数组做加减乘除操作-5.2\"><span class=\"toc-item-num\">5.2&nbsp;&nbsp;</span>对numpy的数组做加减乘除操作</a></span></li><li><span><a href=\"#数据的转化\" data-toc-modified-id=\"数据的转化-5.3\"><span class=\"toc-item-num\">5.3&nbsp;&nbsp;</span>数据的转化</a></span></li><li><span><a href=\"#数据的规整\" data-toc-modified-id=\"数据的规整-5.4\"><span class=\"toc-item-num\">5.4&nbsp;&nbsp;</span>数据的规整</a></span></li></ul></li><li><span><a href=\"#Mask\" data-toc-modified-id=\"Mask-6\"><span class=\"toc-item-num\">6&nbsp;&nbsp;</span>Mask</a></span></li><li><span><a href=\"#通用序列函数\" data-toc-modified-id=\"通用序列函数-7\"><span class=\"toc-item-num\">7&nbsp;&nbsp;</span>通用序列函数</a></span><ul class=\"toc-item\"><li><span><a href=\"#all和any\" data-toc-modified-id=\"all和any-7.1\"><span class=\"toc-item-num\">7.1&nbsp;&nbsp;</span>all和any</a></span></li><li><span><a href=\"#maximum和minimum\" data-toc-modified-id=\"maximum和minimum-7.2\"><span class=\"toc-item-num\">7.2&nbsp;&nbsp;</span>maximum和minimum</a></span></li><li><span><a href=\"#unique\" data-toc-modified-id=\"unique-7.3\"><span class=\"toc-item-num\">7.3&nbsp;&nbsp;</span>unique</a></span></li><li><span><a href=\"#diff\" data-toc-modified-id=\"diff-7.4\"><span class=\"toc-item-num\">7.4&nbsp;&nbsp;</span>diff</a></span></li><li><span><a href=\"#三目表达式\" data-toc-modified-id=\"三目表达式-7.5\"><span class=\"toc-item-num\">7.5&nbsp;&nbsp;</span>三目表达式</a></span></li></ul></li><li><span><a href=\"#统计函数\" data-toc-modified-id=\"统计函数-8\"><span class=\"toc-item-num\">8&nbsp;&nbsp;</span>统计函数</a></span><ul class=\"toc-item\"><li><span><a href=\"#最大最小值\" data-toc-modified-id=\"最大最小值-8.1\"><span class=\"toc-item-num\">8.1&nbsp;&nbsp;</span>最大最小值</a></span></li><li><span><a href=\"#均值，方差和标准差\" data-toc-modified-id=\"均值，方差和标准差-8.2\"><span class=\"toc-item-num\">8.2&nbsp;&nbsp;</span>均值，方差和标准差</a></span></li></ul></li></ul></div>"
   ]
  },
  {
   "cell_type": "markdown",
   "metadata": {},
   "source": [
    "# 前言\n",
    "numpy是一个十分强大的python库，相比于python自带的list，numpy它能够支持更多更加灵活的操作。\n",
    "\n",
    "在本文中仅仅介绍在《量化交易之路》中使用过的numpy，其他内容还请查阅：\n",
    "http://old.sebug.net/paper/books/scipydoc/numpy_intro.html"
   ]
  },
  {
   "cell_type": "markdown",
   "metadata": {},
   "source": [
    "# 创建Numpy数组\n",
    "numpy最重要的就是数组了。相比于python中的list，numpy中的数组数据类型提供了更为灵活丰富的操作。\n",
    "下面，演示几种一般的numpy数组创建方式。\n",
    "\n",
    "## 基于pythonlist的数组创建\n",
    "这种方式创建数组比较利于我们从python的list过度到numpy的数组。\n",
    "\n",
    "注意，会发现numpy数组元素之间不是用逗号，而是用空格隔开的。"
   ]
  },
  {
   "cell_type": "markdown",
   "metadata": {},
   "source": [
    "** 导入numpy模块：**"
   ]
  },
  {
   "cell_type": "code",
   "execution_count": 4,
   "metadata": {},
   "outputs": [],
   "source": [
    "import numpy as np"
   ]
  },
  {
   "cell_type": "markdown",
   "metadata": {},
   "source": [
    "**基于python的list创建numpy数组**"
   ]
  },
  {
   "cell_type": "code",
   "execution_count": 6,
   "metadata": {},
   "outputs": [
    {
     "name": "stdout",
     "output_type": "stream",
     "text": [
      "[1, 2, 3, 4]\n",
      "<class 'list'>\n"
     ]
    }
   ],
   "source": [
    "a=[1,2,3,4]\n",
    "print(a)\n",
    "print(type(a))"
   ]
  },
  {
   "cell_type": "code",
   "execution_count": 5,
   "metadata": {},
   "outputs": [
    {
     "name": "stdout",
     "output_type": "stream",
     "text": [
      "[1 2 3 4]\n",
      "<class 'numpy.ndarray'>\n"
     ]
    }
   ],
   "source": [
    "b=np.array(a)\n",
    "print(b)\n",
    "print(type(b))"
   ]
  },
  {
   "cell_type": "markdown",
   "metadata": {},
   "source": [
    "** 复杂的list也可以生成相同结构的数组**"
   ]
  },
  {
   "cell_type": "code",
   "execution_count": 8,
   "metadata": {},
   "outputs": [
    {
     "name": "stdout",
     "output_type": "stream",
     "text": [
      "[[1, 2, 3], [4, 5, 6]]\n",
      "<class 'list'>\n",
      "[[1 2 3]\n",
      " [4 5 6]]\n",
      "<class 'numpy.ndarray'>\n"
     ]
    }
   ],
   "source": [
    "c=[[1,2,3],[4,5,6]]\n",
    "print(c)\n",
    "print(type(c))\n",
    "d=np.array(c)\n",
    "print(d)\n",
    "print(type(d))\n",
    "# zeros，ones，empty，eye，ones_like,zeros_like"
   ]
  },
  {
   "cell_type": "markdown",
   "metadata": {},
   "source": [
    "## 基于numpy方法生成常用数组\n",
    "一般而言，我们会有numpy数组去表示矩阵，然后用矩阵的相关运算来进行后续的操作。\n",
    "而在矩阵的运算中，单位矩阵，是一个很重要的矩阵。对于一个4*4的单位矩阵，如果需要我们通过先构建list，再生成数组的形式来操作的话，显得太过麻烦了。\n",
    "因此，numpy就提供共了很多简单的方法生成一些常用的矩阵。"
   ]
  },
  {
   "cell_type": "markdown",
   "metadata": {},
   "source": [
    "** 根据输入的矩阵大小生成全零矩阵**"
   ]
  },
  {
   "cell_type": "code",
   "execution_count": 12,
   "metadata": {},
   "outputs": [
    {
     "name": "stdout",
     "output_type": "stream",
     "text": [
      "[ 0.  0.  0.  0.  0.]\n",
      "[[ 0.  0.  0.  0.]\n",
      " [ 0.  0.  0.  0.]\n",
      " [ 0.  0.  0.  0.]]\n"
     ]
    }
   ],
   "source": [
    "# 仅传入一个数组，表示生成一个长度为n的一维数组\n",
    "np_zero=np.zeros(5)\n",
    "print(np_zero)\n",
    "# 以list的方式传入所需要的全零矩阵的行与列数目\n",
    "np_zero=np.zeros([3,4])\n",
    "print(np_zero)"
   ]
  },
  {
   "cell_type": "markdown",
   "metadata": {},
   "source": [
    "**根据输入的矩阵大小生成全一矩阵**"
   ]
  },
  {
   "cell_type": "code",
   "execution_count": 11,
   "metadata": {},
   "outputs": [
    {
     "name": "stdout",
     "output_type": "stream",
     "text": [
      "[[ 1.  1.  1.]\n",
      " [ 1.  1.  1.]]\n"
     ]
    }
   ],
   "source": [
    "np_ones=np.ones([2,3])\n",
    "print(np_ones)"
   ]
  },
  {
   "cell_type": "markdown",
   "metadata": {},
   "source": [
    "**模仿输入的矩阵，生成一个相同size的全零或者全一矩阵**"
   ]
  },
  {
   "cell_type": "code",
   "execution_count": 13,
   "metadata": {},
   "outputs": [
    {
     "name": "stdout",
     "output_type": "stream",
     "text": [
      "[[0 0 0]\n",
      " [0 0 0]]\n",
      "[[1 1 1]\n",
      " [1 1 1]]\n"
     ]
    }
   ],
   "source": [
    "# 输入矩阵大小是2*3\n",
    "a=[[1,2,3],[4,5,6]]\n",
    "np_zeros=np.zeros_like(a)\n",
    "np_ones=np.ones_like(a)\n",
    "print(np_zeros)\n",
    "print(np_ones)"
   ]
  },
  {
   "cell_type": "markdown",
   "metadata": {},
   "source": [
    "**生成单位矩阵**"
   ]
  },
  {
   "cell_type": "code",
   "execution_count": 14,
   "metadata": {},
   "outputs": [
    {
     "name": "stdout",
     "output_type": "stream",
     "text": [
      "[[ 1.  0.  0.  0.  0.]\n",
      " [ 0.  1.  0.  0.  0.]\n",
      " [ 0.  0.  1.  0.  0.]\n",
      " [ 0.  0.  0.  1.  0.]\n",
      " [ 0.  0.  0.  0.  1.]]\n"
     ]
    }
   ],
   "source": [
    "# 单位矩阵由于其特殊的形式，我们只需要告诉numpy需要几阶的单位阵就好。\n",
    "np_eyes=np.eye(5)\n",
    "print(np_eyes)"
   ]
  },
  {
   "cell_type": "markdown",
   "metadata": {},
   "source": [
    "## 基于numpy方法生成等间距数组\n",
    "有的时候，我们可能会需要在最大值和最小值之间，平均的生成k个点(包括最大最小值点）\n",
    "而numpy也提供了类似的方法给我们"
   ]
  },
  {
   "cell_type": "code",
   "execution_count": 21,
   "metadata": {},
   "outputs": [
    {
     "name": "stdout",
     "output_type": "stream",
     "text": [
      "[  0.   1.   2.   3.   4.   5.   6.   7.   8.   9.  10.]\n"
     ]
    }
   ],
   "source": [
    "# 等间距的生成np.array\n",
    "# 计算公式是linspace(a,b,c),\n",
    "# 数组的开头是a，结尾是b，c表示这个数组中要有几个点\n",
    "#（其实就是把a~b这段距离平均分为c-1份）\n",
    "np_linespace=np.linspace(0,10,11)\n",
    "print(np_linespace)"
   ]
  },
  {
   "cell_type": "markdown",
   "metadata": {},
   "source": [
    "## 根据概率分布生成数组\n",
    "这里这么想，我有一个数组，里面有n个元素。我们把这n个元素看做是一个随机变量，并且都属于同一个分布。\n",
    "那么，接下来我的目标就是基于这个分布，生成n个属于这个分布的元素。\n",
    "\n",
    "示例中用一种基本的分布，标准正态分布，来进行演示。"
   ]
  },
  {
   "cell_type": "code",
   "execution_count": 26,
   "metadata": {},
   "outputs": [
    {
     "name": "stdout",
     "output_type": "stream",
     "text": [
      "[ 1.17573962  0.28994448  2.02210781 -0.19290488 -2.07559477  0.02969273\n",
      "  0.98586402 -0.08547048 -0.36726295 -1.56878403]\n",
      "[[-0.03599318 -0.23291393  2.03278574]\n",
      " [-0.86697868 -0.22205171 -0.01466563]\n",
      " [-0.99376621 -0.895311   -0.42112069]]\n"
     ]
    }
   ],
   "source": [
    "# 生成一个长度为10的正态分布list\n",
    "np_normal_list=np.random.standard_normal(10)\n",
    "print(np_normal_list)\n",
    "# 生成一个size位3*3的正态分布数组,最好传入tuple，当然list也没问题\n",
    "np_normal_met=np.random.standard_normal([3,3])\n",
    "print(np_normal_met)"
   ]
  },
  {
   "cell_type": "markdown",
   "metadata": {},
   "source": [
    "# 切片\n",
    "切片是python的一大亮点，那么numpy中当然也提供了相关操作，甚至是更加便捷的切片操作。\n",
    "下面，我们从python的切片开始，来看看numpy中的切片。"
   ]
  },
  {
   "cell_type": "markdown",
   "metadata": {},
   "source": [
    "## python自带的list切片"
   ]
  },
  {
   "cell_type": "code",
   "execution_count": 27,
   "metadata": {},
   "outputs": [
    {
     "name": "stdout",
     "output_type": "stream",
     "text": [
      "[[1, 2, 3], [4, 5, 6], [7, 8, 9]]\n"
     ]
    }
   ],
   "source": [
    "a=[[1,2,3],[4,5,6],[7,8,9]]\n",
    "print(a)"
   ]
  },
  {
   "cell_type": "markdown",
   "metadata": {},
   "source": [
    "**获得第二行**"
   ]
  },
  {
   "cell_type": "code",
   "execution_count": 28,
   "metadata": {},
   "outputs": [
    {
     "name": "stdout",
     "output_type": "stream",
     "text": [
      "[4, 5, 6]\n"
     ]
    }
   ],
   "source": [
    "a_r_2=a[1]\n",
    "print(a_r_2)"
   ]
  },
  {
   "cell_type": "code",
   "execution_count": 29,
   "metadata": {},
   "outputs": [
    {
     "name": "stdout",
     "output_type": "stream",
     "text": [
      "[4, 5, 6]\n"
     ]
    }
   ],
   "source": [
    "a_r_2_2=a[1][:]\n",
    "print(a_r_2_2)"
   ]
  },
  {
   "cell_type": "markdown",
   "metadata": {},
   "source": [
    "**获得第二列**"
   ]
  },
  {
   "cell_type": "code",
   "execution_count": 46,
   "metadata": {},
   "outputs": [
    {
     "name": "stdout",
     "output_type": "stream",
     "text": [
      "[2, 5, 8]\n"
     ]
    }
   ],
   "source": [
    "a_c_2=[col[1] for col in a]\n",
    "print(a_c_2)"
   ]
  },
  {
   "cell_type": "markdown",
   "metadata": {},
   "source": [
    "** 获得第i行j列个元素**"
   ]
  },
  {
   "cell_type": "code",
   "execution_count": 47,
   "metadata": {},
   "outputs": [
    {
     "name": "stdout",
     "output_type": "stream",
     "text": [
      "6\n"
     ]
    }
   ],
   "source": [
    "a_i_j=a[1][2]\n",
    "print(a_i_j)"
   ]
  },
  {
   "cell_type": "markdown",
   "metadata": {},
   "source": [
    "## numpy的切片\n",
    "从上面我们发现，其他还好，但是要获得矩阵某一列的元素时，我们还是需要借助类似于for循环的方式实现。\n",
    "而numpy可以有更加方便的方式。"
   ]
  },
  {
   "cell_type": "code",
   "execution_count": 48,
   "metadata": {},
   "outputs": [
    {
     "name": "stdout",
     "output_type": "stream",
     "text": [
      "[[1 2 3]\n",
      " [4 5 6]\n",
      " [7 8 9]]\n"
     ]
    }
   ],
   "source": [
    "np_a=np.array(a)\n",
    "print(np_a)"
   ]
  },
  {
   "cell_type": "markdown",
   "metadata": {},
   "source": [
    "**获得第二行**"
   ]
  },
  {
   "cell_type": "code",
   "execution_count": 49,
   "metadata": {},
   "outputs": [
    {
     "name": "stdout",
     "output_type": "stream",
     "text": [
      "[4 5 6]\n"
     ]
    }
   ],
   "source": [
    "np_r2=np_a[1]\n",
    "print(np_r2)"
   ]
  },
  {
   "cell_type": "code",
   "execution_count": 50,
   "metadata": {},
   "outputs": [
    {
     "name": "stdout",
     "output_type": "stream",
     "text": [
      "[4 5 6]\n"
     ]
    }
   ],
   "source": [
    "np_r2_2=np_a[1,:]\n",
    "print(np_r2_2)"
   ]
  },
  {
   "cell_type": "markdown",
   "metadata": {},
   "source": [
    "**获得第二列**"
   ]
  },
  {
   "cell_type": "code",
   "execution_count": 52,
   "metadata": {},
   "outputs": [
    {
     "name": "stdout",
     "output_type": "stream",
     "text": [
      "[2 5 8]\n"
     ]
    }
   ],
   "source": [
    "np_c2=np_a[:,1]\n",
    "print(np_c2)"
   ]
  },
  {
   "cell_type": "markdown",
   "metadata": {},
   "source": [
    "**获得第i行j列个元素**"
   ]
  },
  {
   "cell_type": "code",
   "execution_count": 53,
   "metadata": {},
   "outputs": [
    {
     "name": "stdout",
     "output_type": "stream",
     "text": [
      "8\n"
     ]
    }
   ],
   "source": [
    "np_i_j=np_a[2,1]\n",
    "print(np_i_j)"
   ]
  },
  {
   "cell_type": "markdown",
   "metadata": {},
   "source": [
    "# 引用\n",
    "关于numpy的数组，当我们利用切片获得一个子序列时，我们其实获得的是原序列的一个引用，这个引用指向原序列的一部分。\n",
    "那么，当我们在子序列上修改时，原序列也会跟着变化"
   ]
  },
  {
   "cell_type": "markdown",
   "metadata": {},
   "source": [
    "## 修改切片导致原序列变化"
   ]
  },
  {
   "cell_type": "code",
   "execution_count": 54,
   "metadata": {},
   "outputs": [
    {
     "name": "stdout",
     "output_type": "stream",
     "text": [
      "[[ 1.  0.  0.]\n",
      " [ 0.  1.  0.]\n",
      " [ 0.  0.  1.]]\n"
     ]
    }
   ],
   "source": [
    "# 获得原序列\n",
    "eyes=np.eye(3)\n",
    "print(eyes)"
   ]
  },
  {
   "cell_type": "code",
   "execution_count": 56,
   "metadata": {},
   "outputs": [
    {
     "name": "stdout",
     "output_type": "stream",
     "text": [
      "[ 2.  1.  0.]\n"
     ]
    }
   ],
   "source": [
    "# 得到第二列，并修改第一个元素为2\n",
    "col2=eyes[:,1]\n",
    "col2[0]=2\n",
    "print(col2)"
   ]
  },
  {
   "cell_type": "code",
   "execution_count": 58,
   "metadata": {},
   "outputs": [
    {
     "name": "stdout",
     "output_type": "stream",
     "text": [
      "[[ 1.  2.  0.]\n",
      " [ 0.  1.  0.]\n",
      " [ 0.  0.  1.]]\n"
     ]
    }
   ],
   "source": [
    "# 查看原序列\n",
    "print(eyes)"
   ]
  },
  {
   "cell_type": "markdown",
   "metadata": {},
   "source": [
    "## 利用copy()函数获得备份\n",
    "为了防止原序列被修改，可以使用copy函数，获得一个原序列的真实备份，那么对于切片的操作，就不会影响原序列了。"
   ]
  },
  {
   "cell_type": "code",
   "execution_count": 59,
   "metadata": {},
   "outputs": [
    {
     "name": "stdout",
     "output_type": "stream",
     "text": [
      "[[ 1.  0.  0.]\n",
      " [ 0.  1.  0.]\n",
      " [ 0.  0.  1.]]\n"
     ]
    }
   ],
   "source": [
    "eyes=np.eye(3)\n",
    "print(eyes)"
   ]
  },
  {
   "cell_type": "code",
   "execution_count": 61,
   "metadata": {},
   "outputs": [
    {
     "name": "stdout",
     "output_type": "stream",
     "text": [
      "[ 2.  1.  0.]\n"
     ]
    }
   ],
   "source": [
    "cols=eyes[:,1].copy()\n",
    "cols[0]=2\n",
    "print(cols)"
   ]
  },
  {
   "cell_type": "code",
   "execution_count": 62,
   "metadata": {},
   "outputs": [
    {
     "name": "stdout",
     "output_type": "stream",
     "text": [
      "[[ 1.  0.  0.]\n",
      " [ 0.  1.  0.]\n",
      " [ 0.  0.  1.]]\n"
     ]
    }
   ],
   "source": [
    "print(eyes)"
   ]
  },
  {
   "cell_type": "markdown",
   "metadata": {},
   "source": [
    "# 数据的修改，转化和规整\n",
    "在python中，对于list做加减乘除，是会被认为是对list这个整体进行操作。\n",
    "\n",
    "而在numpy中，每一个对numpy数组的操作，都被认为是对数组中每一个元素的操作"
   ]
  },
  {
   "cell_type": "markdown",
   "metadata": {},
   "source": [
    "## 对list做加减乘除操作"
   ]
  },
  {
   "cell_type": "code",
   "execution_count": 63,
   "metadata": {},
   "outputs": [
    {
     "name": "stdout",
     "output_type": "stream",
     "text": [
      "[[1, 2], [3, 4], [1, 2], [3, 4], [1, 2], [3, 4]]\n"
     ]
    }
   ],
   "source": [
    "a=[[1,2],[3,4]]\n",
    "print(a*3)"
   ]
  },
  {
   "cell_type": "markdown",
   "metadata": {},
   "source": [
    "## 对numpy的数组做加减乘除操作"
   ]
  },
  {
   "cell_type": "code",
   "execution_count": 66,
   "metadata": {},
   "outputs": [
    {
     "name": "stdout",
     "output_type": "stream",
     "text": [
      "[[1 2]\n",
      " [3 4]]\n"
     ]
    }
   ],
   "source": [
    "np_a=np.array(a)\n",
    "print(np_a)"
   ]
  },
  {
   "cell_type": "code",
   "execution_count": 67,
   "metadata": {},
   "outputs": [
    {
     "name": "stdout",
     "output_type": "stream",
     "text": [
      "[[2 4]\n",
      " [6 8]]\n"
     ]
    }
   ],
   "source": [
    "print(np_a*2)"
   ]
  },
  {
   "cell_type": "code",
   "execution_count": 68,
   "metadata": {},
   "outputs": [
    {
     "name": "stdout",
     "output_type": "stream",
     "text": [
      "[[4 5]\n",
      " [6 7]]\n"
     ]
    }
   ],
   "source": [
    "print(np_a+3)"
   ]
  },
  {
   "cell_type": "code",
   "execution_count": 70,
   "metadata": {},
   "outputs": [
    {
     "name": "stdout",
     "output_type": "stream",
     "text": [
      "[[ 1.  0.]\n",
      " [ 0.  1.]]\n"
     ]
    }
   ],
   "source": [
    "np_b=np.eye(2)\n",
    "print(np_b)"
   ]
  },
  {
   "cell_type": "code",
   "execution_count": 71,
   "metadata": {},
   "outputs": [
    {
     "name": "stdout",
     "output_type": "stream",
     "text": [
      "[[ 2.  2.]\n",
      " [ 3.  5.]]\n"
     ]
    }
   ],
   "source": [
    "print(np_a+np_b)"
   ]
  },
  {
   "cell_type": "markdown",
   "metadata": {},
   "source": [
    "## 数据的转化\n",
    "当我们需要把元素为float类型的矩阵转化为int，或者将元素为int的矩阵转化为float，可以使用np数组自带的astype函数"
   ]
  },
  {
   "cell_type": "code",
   "execution_count": 76,
   "metadata": {},
   "outputs": [
    {
     "name": "stdout",
     "output_type": "stream",
     "text": [
      "[[ 3.1415   2.7856 ]\n",
      " [ 9.23475  5.7429 ]]\n"
     ]
    }
   ],
   "source": [
    "np_float=np.array([[3.1415,2.7856],[9.23475,5.7429]])\n",
    "print(np_float)"
   ]
  },
  {
   "cell_type": "code",
   "execution_count": 78,
   "metadata": {},
   "outputs": [
    {
     "name": "stdout",
     "output_type": "stream",
     "text": [
      "[[3 2]\n",
      " [9 5]]\n"
     ]
    }
   ],
   "source": [
    "np_float=np_float.astype(int)\n",
    "print(np_float)"
   ]
  },
  {
   "cell_type": "code",
   "execution_count": 79,
   "metadata": {},
   "outputs": [
    {
     "name": "stdout",
     "output_type": "stream",
     "text": [
      "[[ 3.  2.]\n",
      " [ 9.  5.]]\n"
     ]
    }
   ],
   "source": [
    "np_float=np_float.astype(float)\n",
    "print(np_float)"
   ]
  },
  {
   "cell_type": "markdown",
   "metadata": {},
   "source": [
    "## 数据的规整\n",
    "当我们对数据的精度有要求时，可以用numpy库提供的方法，对数据进行floor，ceil，round等操作"
   ]
  },
  {
   "cell_type": "code",
   "execution_count": 80,
   "metadata": {},
   "outputs": [
    {
     "name": "stdout",
     "output_type": "stream",
     "text": [
      "[[ 3.1415   2.7856 ]\n",
      " [ 9.23475  5.7429 ]]\n"
     ]
    }
   ],
   "source": [
    "np_float=np.array([[3.1415,2.7856],[9.23475,5.7429]])\n",
    "print(np_float)"
   ]
  },
  {
   "cell_type": "code",
   "execution_count": 81,
   "metadata": {},
   "outputs": [
    {
     "name": "stdout",
     "output_type": "stream",
     "text": [
      "[[ 3.14  2.79]\n",
      " [ 9.23  5.74]]\n"
     ]
    }
   ],
   "source": [
    "np_round=np.round(np_float,2)\n",
    "print(np_round)"
   ]
  },
  {
   "cell_type": "markdown",
   "metadata": {},
   "source": [
    "# Mask\n",
    "mask是numpy中的每一个元素做了条件运算之后得到的结果，通过该结果，我们可以筛选出我们需要的元素。"
   ]
  },
  {
   "cell_type": "markdown",
   "metadata": {},
   "source": [
    "** 得到mask**"
   ]
  },
  {
   "cell_type": "code",
   "execution_count": 83,
   "metadata": {},
   "outputs": [
    {
     "name": "stdout",
     "output_type": "stream",
     "text": [
      "[[False  True False]\n",
      " [ True False  True]]\n",
      "[[1 2 3]\n",
      " [4 5 6]]\n"
     ]
    }
   ],
   "source": [
    "np_int=np.array([[1,2,3],[4,5,6]])\n",
    "np_mask=np_int%2==0\n",
    "print(np_mask)"
   ]
  },
  {
   "cell_type": "markdown",
   "metadata": {},
   "source": [
    "** 利用mask来筛选元素**"
   ]
  },
  {
   "cell_type": "code",
   "execution_count": 84,
   "metadata": {},
   "outputs": [
    {
     "name": "stdout",
     "output_type": "stream",
     "text": [
      "[2 4 6]\n"
     ]
    }
   ],
   "source": [
    "np_int_mask=np_int[np_mask]\n",
    "print(np_int_mask)"
   ]
  },
  {
   "cell_type": "markdown",
   "metadata": {},
   "source": [
    "# 通用序列函数\n",
    "通用序列函数，可以看做是numpy帮我们把一些常用的全局mask给封装起来。比如判断是否所有元素都大于零，是否有元素小于零等等。"
   ]
  },
  {
   "cell_type": "markdown",
   "metadata": {},
   "source": [
    "## all和any\n",
    "all表示全部符合，比如是否全部都大于零\n",
    "any表示存在符合，比如是否存在大于零"
   ]
  },
  {
   "cell_type": "markdown",
   "metadata": {},
   "source": [
    "**all，判断是否元素都大于0**"
   ]
  },
  {
   "cell_type": "code",
   "execution_count": 85,
   "metadata": {},
   "outputs": [
    {
     "name": "stdout",
     "output_type": "stream",
     "text": [
      "True\n"
     ]
    }
   ],
   "source": [
    "np_test=np.array([[1,2,3],[4,5,6]])\n",
    "print(np.all(np_test>0))"
   ]
  },
  {
   "cell_type": "markdown",
   "metadata": {},
   "source": [
    "**any,判断是否有元素小于零**"
   ]
  },
  {
   "cell_type": "code",
   "execution_count": 86,
   "metadata": {},
   "outputs": [
    {
     "name": "stdout",
     "output_type": "stream",
     "text": [
      "True\n"
     ]
    }
   ],
   "source": [
    "np_test=np.array([[-1,2,3],[4,5,6]])\n",
    "print(np.any(np_test<0))"
   ]
  },
  {
   "cell_type": "markdown",
   "metadata": {},
   "source": [
    "## maximum和minimum\n",
    "这两个函数用来比较两个数组中的元素，并留下较大，或者较小那个。"
   ]
  },
  {
   "cell_type": "markdown",
   "metadata": {},
   "source": [
    "** maximum，比较两个数组，留下每个位置上较大的那个**"
   ]
  },
  {
   "cell_type": "code",
   "execution_count": 87,
   "metadata": {},
   "outputs": [
    {
     "name": "stdout",
     "output_type": "stream",
     "text": [
      "[2 5 6]\n"
     ]
    }
   ],
   "source": [
    "np_1=np.array([2,4,6])\n",
    "np_2=np.array([1,5,3])\n",
    "print(np.maximum(np_1,np_2))"
   ]
  },
  {
   "cell_type": "markdown",
   "metadata": {},
   "source": [
    "** minimum,比较两个数组，留下每个位置上较小的那个**"
   ]
  },
  {
   "cell_type": "code",
   "execution_count": 88,
   "metadata": {},
   "outputs": [
    {
     "name": "stdout",
     "output_type": "stream",
     "text": [
      "[1 4 3]\n"
     ]
    }
   ],
   "source": [
    "print(np.minimum(np_1,np_2))"
   ]
  },
  {
   "cell_type": "markdown",
   "metadata": {},
   "source": [
    "## unique\n",
    "对于用重复元素的数组，删除重复元素，只留下一个元素,并返回一个一维数组"
   ]
  },
  {
   "cell_type": "code",
   "execution_count": 89,
   "metadata": {},
   "outputs": [
    {
     "name": "stdout",
     "output_type": "stream",
     "text": [
      "[1 2 3 4 5]\n"
     ]
    }
   ],
   "source": [
    "np_a=np.array([[1,2,3],[2,4,5]])\n",
    "print(np.unique(np_a))"
   ]
  },
  {
   "cell_type": "markdown",
   "metadata": {},
   "source": [
    "## diff\n",
    "判断同一个array中某一个维度上不同。\n",
    "对于axis=1，表示判断第二列和第一列的差，第三列和第二列的差....\n",
    "对于axis=2，表示判断第二行和第一行的差，第三行和第二行的差...."
   ]
  },
  {
   "cell_type": "code",
   "execution_count": 94,
   "metadata": {},
   "outputs": [
    {
     "name": "stdout",
     "output_type": "stream",
     "text": [
      "[[1 1]\n",
      " [2 1]]\n",
      "[[1 2 2]]\n"
     ]
    }
   ],
   "source": [
    "np_a=np.array([[1,2,3],[2,4,5]])\n",
    "print(np.diff(np_a,axis=1))\n",
    "print(np.diff(np_a,axis=0))"
   ]
  },
  {
   "cell_type": "markdown",
   "metadata": {},
   "source": [
    "## 三目表达式\n",
    "在numpy中，还提供一种叫做三目表达式的操作，\n",
    "对于numpy数组中，如果元素符合条件，那么执行动作A，否则执行动作B。"
   ]
  },
  {
   "cell_type": "markdown",
   "metadata": {},
   "source": [
    "** 数组元素为偶数，设置为0，否则设置为1**"
   ]
  },
  {
   "cell_type": "code",
   "execution_count": 95,
   "metadata": {},
   "outputs": [
    {
     "name": "stdout",
     "output_type": "stream",
     "text": [
      "[[1 0 1]\n",
      " [0 1 0]]\n"
     ]
    }
   ],
   "source": [
    "np_a=np.array([[1,2,3],[4,5,6]])\n",
    "print(np.where(np_a%2==0,0,1))"
   ]
  },
  {
   "cell_type": "markdown",
   "metadata": {},
   "source": [
    "** 数组元素为偶数，设置为0，否则不变**"
   ]
  },
  {
   "cell_type": "code",
   "execution_count": 97,
   "metadata": {},
   "outputs": [
    {
     "name": "stdout",
     "output_type": "stream",
     "text": [
      "[[1 0 3]\n",
      " [0 5 0]]\n"
     ]
    }
   ],
   "source": [
    "print(np.where(np_a%2==0,0,np_a))"
   ]
  },
  {
   "cell_type": "markdown",
   "metadata": {},
   "source": [
    "** 数组元素为偶数，且大于等于4，设置为0，否则不变**"
   ]
  },
  {
   "cell_type": "code",
   "execution_count": 98,
   "metadata": {},
   "outputs": [
    {
     "name": "stdout",
     "output_type": "stream",
     "text": [
      "[[1 2 3]\n",
      " [0 5 0]]\n"
     ]
    }
   ],
   "source": [
    "print(np.where(np.logical_and(np_a%2==0,np_a>=4),0,np_a))"
   ]
  },
  {
   "cell_type": "markdown",
   "metadata": {},
   "source": [
    "# 统计函数\n",
    "numpy同样提供了一些统计函数，可以帮助计算均值，方差，标准差，最大值，最小值等统计量"
   ]
  },
  {
   "cell_type": "code",
   "execution_count": 99,
   "metadata": {},
   "outputs": [
    {
     "name": "stdout",
     "output_type": "stream",
     "text": [
      "[[1 2 3]\n",
      " [4 5 6]\n",
      " [7 8 9]]\n"
     ]
    }
   ],
   "source": [
    "np_a=np.array([[1,2,3],[4,5,6],[7,8,9]])\n",
    "print(np_a)"
   ]
  },
  {
   "cell_type": "markdown",
   "metadata": {},
   "source": [
    "## 最大最小值\n",
    "numpy提供的函数可以统计全局的极值，也可以提供每行或者每列的最大最小值"
   ]
  },
  {
   "cell_type": "markdown",
   "metadata": {},
   "source": [
    "** 全局最大值**"
   ]
  },
  {
   "cell_type": "code",
   "execution_count": 100,
   "metadata": {},
   "outputs": [
    {
     "name": "stdout",
     "output_type": "stream",
     "text": [
      "9\n"
     ]
    }
   ],
   "source": [
    "print(np.max(np_a))"
   ]
  },
  {
   "cell_type": "markdown",
   "metadata": {},
   "source": [
    "**每行的最大值**"
   ]
  },
  {
   "cell_type": "code",
   "execution_count": 101,
   "metadata": {},
   "outputs": [
    {
     "name": "stdout",
     "output_type": "stream",
     "text": [
      "[3 6 9]\n"
     ]
    }
   ],
   "source": [
    "print(np.max(np_a,axis=1))"
   ]
  },
  {
   "cell_type": "markdown",
   "metadata": {},
   "source": [
    "**每列最大值**"
   ]
  },
  {
   "cell_type": "code",
   "execution_count": 102,
   "metadata": {},
   "outputs": [
    {
     "name": "stdout",
     "output_type": "stream",
     "text": [
      "[7 8 9]\n"
     ]
    }
   ],
   "source": [
    "print(np.max(np_a,axis=0))"
   ]
  },
  {
   "cell_type": "markdown",
   "metadata": {},
   "source": [
    "## 均值，方差和标准差\n",
    "均值，方差和标准差的全局用法和上面一样，\n",
    "\n",
    "但按列和按行取，就刚好相反，\n",
    "\n",
    "下面就仅演示按列取均值，方差和标准差。"
   ]
  },
  {
   "cell_type": "markdown",
   "metadata": {},
   "source": [
    "** 每一列的均值**"
   ]
  },
  {
   "cell_type": "code",
   "execution_count": 106,
   "metadata": {},
   "outputs": [
    {
     "name": "stdout",
     "output_type": "stream",
     "text": [
      "[ 4.  5.  6.]\n"
     ]
    }
   ],
   "source": [
    "print(np.mean(np_a.astype(float),axis=0))"
   ]
  },
  {
   "cell_type": "markdown",
   "metadata": {},
   "source": [
    "**每一列的方差**"
   ]
  },
  {
   "cell_type": "code",
   "execution_count": 109,
   "metadata": {},
   "outputs": [
    {
     "name": "stdout",
     "output_type": "stream",
     "text": [
      "[ 6.  6.  6.]\n"
     ]
    }
   ],
   "source": [
    "print(np.var(np_a,axis=0))"
   ]
  },
  {
   "cell_type": "markdown",
   "metadata": {},
   "source": [
    "** 每一列的标准差**"
   ]
  },
  {
   "cell_type": "code",
   "execution_count": 110,
   "metadata": {},
   "outputs": [
    {
     "name": "stdout",
     "output_type": "stream",
     "text": [
      "[ 2.44948974  2.44948974  2.44948974]\n"
     ]
    }
   ],
   "source": [
    "print(np.std(np_a,axis=0))"
   ]
  },
  {
   "cell_type": "code",
   "execution_count": null,
   "metadata": {},
   "outputs": [],
   "source": []
  }
 ],
 "metadata": {
  "kernelspec": {
   "display_name": "Python 3",
   "language": "python",
   "name": "python3"
  },
  "language_info": {
   "codemirror_mode": {
    "name": "ipython",
    "version": 3
   },
   "file_extension": ".py",
   "mimetype": "text/x-python",
   "name": "python",
   "nbconvert_exporter": "python",
   "pygments_lexer": "ipython3",
   "version": "3.6.3"
  },
  "toc": {
   "nav_menu": {},
   "number_sections": true,
   "sideBar": true,
   "skip_h1_title": false,
   "toc_cell": true,
   "toc_position": {
    "height": "796px",
    "left": "0px",
    "right": "1112px",
    "top": "110px",
    "width": "212px"
   },
   "toc_section_display": "block",
   "toc_window_display": true
  }
 },
 "nbformat": 4,
 "nbformat_minor": 2
}
