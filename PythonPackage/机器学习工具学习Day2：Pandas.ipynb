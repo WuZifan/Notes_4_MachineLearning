{
 "cells": [
  {
   "cell_type": "markdown",
   "metadata": {},
   "source": [
    "# 前言\n",
    "之前在体会到numpy相对于list的好处之后，我们同样也会自然而言的想，pandas的优点又在哪里呢？\n",
    "\n",
    "numpy的强项在于n维数组的运算，包括在此之上的矩阵运算。\n",
    "\n",
    "而pandas，它又定义了两种新的数据格式，称为series和Dataframe。\n",
    "\n",
    "并且，它更为强调的是表格的概念，它为每一行，每一列都添加了index，我们可以通过这些index，快速的对数据进行定位和操作。\n",
    "\n",
    "参考：\n",
    "https://ericfu.me/10-minutes-to-pandas/"
   ]
  },
  {
   "cell_type": "markdown",
   "metadata": {},
   "source": [
    "**导入包**"
   ]
  },
  {
   "cell_type": "code",
   "execution_count": 1,
   "metadata": {},
   "outputs": [],
   "source": [
    "import pandas as pd"
   ]
  },
  {
   "cell_type": "markdown",
   "metadata": {},
   "source": [
    "# 创建Series\n",
    "Series可以理解为一个一维的列数组，只不过我们为每一行都取了一个名字。"
   ]
  },
  {
   "cell_type": "markdown",
   "metadata": {},
   "source": [
    "**通过两个list来创建series**"
   ]
  },
  {
   "cell_type": "code",
   "execution_count": 6,
   "metadata": {},
   "outputs": [
    {
     "name": "stdout",
     "output_type": "stream",
     "text": [
      "a    1\n",
      "b    2\n",
      "c    3\n",
      "dtype: int64\n"
     ]
    }
   ],
   "source": [
    "obj=pd.Series([1,2,3],index=['a','b','c'])\n",
    "print(obj)"
   ]
  },
  {
   "cell_type": "markdown",
   "metadata": {},
   "source": [
    "**通过字典来创建series**"
   ]
  },
  {
   "cell_type": "code",
   "execution_count": 7,
   "metadata": {},
   "outputs": [
    {
     "name": "stdout",
     "output_type": "stream",
     "text": [
      "num1    10\n",
      "num2    12\n",
      "num3    14\n",
      "dtype: int64\n"
     ]
    }
   ],
   "source": [
    "dic={'num1':10,'num2':12,'num3':14}\n",
    "pd_se=pd.Series(dic)\n",
    "print(pd_se)"
   ]
  },
  {
   "cell_type": "markdown",
   "metadata": {},
   "source": [
    "# 创建Dataframe"
   ]
  },
  {
   "cell_type": "markdown",
   "metadata": {},
   "source": [
    "相比于series，dataframe就是一张完整的表了，它每行，每列都有一个名字。"
   ]
  },
  {
   "cell_type": "markdown",
   "metadata": {},
   "source": [
    "**通过三个list来创建Dataframe**"
   ]
  },
  {
   "cell_type": "code",
   "execution_count": 10,
   "metadata": {},
   "outputs": [
    {
     "name": "stdout",
     "output_type": "stream",
     "text": [
      "      col1  col2  col3\n",
      "row1     1     2     3\n",
      "row2     4     5     6\n",
      "row3     7     8     9\n"
     ]
    }
   ],
   "source": [
    "data=[[1,2,3],[4,5,6],[7,8,9]]\n",
    "index_list=['row1','row2','row3']\n",
    "colum_list=['col1','col2','col3']\n",
    "pd_df=pd.DataFrame(data,index=index_list,columns=colum_list)\n",
    "print(pd_df)"
   ]
  },
  {
   "cell_type": "markdown",
   "metadata": {},
   "source": [
    "**通过dict来创建加一个list来创建**"
   ]
  },
  {
   "cell_type": "code",
   "execution_count": 18,
   "metadata": {},
   "outputs": [
    {
     "name": "stdout",
     "output_type": "stream",
     "text": [
      "    pop   state  year\n",
      "r1  1.5    Ohio  2000\n",
      "r2  1.7    Ohio  2001\n",
      "r3  3.6    Ohio  2002\n",
      "r4  2.4  Nevada  2001\n",
      "r5  2.9  Nevada  2002\n",
      "r6  3.1     AMD  2003\n"
     ]
    }
   ],
   "source": [
    "dic={'state': ['Ohio', 'Ohio', 'Ohio', 'Nevada', 'Nevada','AMD'],\n",
    "    'year': [2000, 2001, 2002, 2001, 2002,2003],\n",
    "    'pop': [1.5, 1.7, 3.6, 2.4, 2.9,3.1]}\n",
    "index_list=['r1','r2','r3','r4','r5','r6']\n",
    "pd_df=pd.DataFrame(dic,index=index_list)\n",
    "print(pd_df)"
   ]
  },
  {
   "cell_type": "markdown",
   "metadata": {},
   "source": [
    "# Dataframe的切片\n",
    "dataframe的切片应该是dataframe这个数据结构最为精髓的地方了。"
   ]
  },
  {
   "cell_type": "markdown",
   "metadata": {},
   "source": [
    "## 简单的查看dataframe数据\n",
    "对于numpy或者list构成的多维数组中，我们如果需要查看一下数据，通常需要自己手写类似于[:5]这样的操作，但dataframe就不用了"
   ]
  },
  {
   "cell_type": "markdown",
   "metadata": {},
   "source": [
    "**打印dataframe头5行**"
   ]
  },
  {
   "cell_type": "code",
   "execution_count": 16,
   "metadata": {},
   "outputs": [
    {
     "name": "stdout",
     "output_type": "stream",
     "text": [
      "    pop   state  year\n",
      "r1  1.5    Ohio  2000\n",
      "r2  1.7    Ohio  2001\n",
      "r3  3.6    Ohio  2002\n",
      "r4  2.4  Nevada  2001\n",
      "r5  2.9  Nevada  2002\n"
     ]
    }
   ],
   "source": [
    "print(pd_df.head())"
   ]
  },
  {
   "cell_type": "markdown",
   "metadata": {},
   "source": [
    "**打印dataframe的尾5行**"
   ]
  },
  {
   "cell_type": "code",
   "execution_count": 19,
   "metadata": {},
   "outputs": [
    {
     "name": "stdout",
     "output_type": "stream",
     "text": [
      "    pop   state  year\n",
      "r2  1.7    Ohio  2001\n",
      "r3  3.6    Ohio  2002\n",
      "r4  2.4  Nevada  2001\n",
      "r5  2.9  Nevada  2002\n",
      "r6  3.1     AMD  2003\n"
     ]
    }
   ],
   "source": [
    "print(pd_df.tail())"
   ]
  },
  {
   "cell_type": "markdown",
   "metadata": {},
   "source": [
    "## 根据列的index获取数据\n",
    "dataframe最大的不同就是它给每行/每列都有设置了一个名字，那么我们就可以直接通过这个名字来获取这一行/列。"
   ]
  },
  {
   "cell_type": "markdown",
   "metadata": {},
   "source": [
    "**通过名字获取一列**\n",
    "\n",
    "这里也有两种方式：\n",
    "\n",
    "    一种通过简单的‘.列名’，像一个属性一样去获得它；\n",
    "    一种是通过['列名']的方式，以偏list的方式去获得它。"
   ]
  },
  {
   "cell_type": "code",
   "execution_count": 20,
   "metadata": {},
   "outputs": [
    {
     "name": "stdout",
     "output_type": "stream",
     "text": [
      "r1    2000\n",
      "r2    2001\n",
      "r3    2002\n",
      "r4    2001\n",
      "r5    2002\n",
      "r6    2003\n",
      "Name: year, dtype: int64\n"
     ]
    }
   ],
   "source": [
    "print(pd_df.year)"
   ]
  },
  {
   "cell_type": "code",
   "execution_count": 21,
   "metadata": {},
   "outputs": [
    {
     "name": "stdout",
     "output_type": "stream",
     "text": [
      "r1      Ohio\n",
      "r2      Ohio\n",
      "r3      Ohio\n",
      "r4    Nevada\n",
      "r5    Nevada\n",
      "r6       AMD\n",
      "Name: state, dtype: object\n"
     ]
    }
   ],
   "source": [
    "print(pd_df['state'])"
   ]
  },
  {
   "cell_type": "markdown",
   "metadata": {},
   "source": [
    "## 根据行的index来获取这一行\n",
    "相比于获取列数据，获取行数据要麻烦一些，需要借助一些函数，比如：\n",
    "\n",
    "    注意后面跟的都是方括号！\n",
    "    loc[] # 按照名字获取行\n",
    "    iloc[] # 按照序号获取行"
   ]
  },
  {
   "cell_type": "markdown",
   "metadata": {},
   "source": [
    "**通过loc，根据名称来获取数据**"
   ]
  },
  {
   "cell_type": "code",
   "execution_count": 33,
   "metadata": {},
   "outputs": [
    {
     "name": "stdout",
     "output_type": "stream",
     "text": [
      "    pop state  year\n",
      "r1  1.5  Ohio  2000\n",
      "r2  1.7  Ohio  2001\n"
     ]
    }
   ],
   "source": [
    "print(pd_df.loc['r1':'r2'])"
   ]
  },
  {
   "cell_type": "code",
   "execution_count": 34,
   "metadata": {},
   "outputs": [
    {
     "name": "stdout",
     "output_type": "stream",
     "text": [
      "pop       1.7\n",
      "state    Ohio\n",
      "year     2001\n",
      "Name: r2, dtype: object\n"
     ]
    }
   ],
   "source": [
    "print(pd_df.loc['r2'])"
   ]
  },
  {
   "cell_type": "markdown",
   "metadata": {},
   "source": [
    "**通过iloc，根据index的序号来获取数据**"
   ]
  },
  {
   "cell_type": "code",
   "execution_count": 36,
   "metadata": {},
   "outputs": [
    {
     "name": "stdout",
     "output_type": "stream",
     "text": [
      "pop       1.5\n",
      "state    Ohio\n",
      "year     2000\n",
      "Name: r1, dtype: object\n"
     ]
    }
   ],
   "source": [
    "print(pd_df.iloc[0])"
   ]
  },
  {
   "cell_type": "code",
   "execution_count": 37,
   "metadata": {},
   "outputs": [
    {
     "name": "stdout",
     "output_type": "stream",
     "text": [
      "    pop state  year\n",
      "r2  1.7  Ohio  2001\n",
      "r3  3.6  Ohio  2002\n"
     ]
    }
   ],
   "source": [
    "print(pd_df.iloc[1:3])"
   ]
  },
  {
   "cell_type": "markdown",
   "metadata": {},
   "source": [
    "# Dataframe，Series和numpy数组的转化\n",
    "有的时候我们需要将datafram，series和数组进行一定的转化，具体操作如下"
   ]
  },
  {
   "cell_type": "markdown",
   "metadata": {},
   "source": [
    "**从dataframe得到series**\n",
    "\n",
    "其实series就是一个一维的列向量，对应于dataframe中的一列，那么我们要做的就是从dataframe中拿到一列"
   ]
  },
  {
   "cell_type": "code",
   "execution_count": 38,
   "metadata": {},
   "outputs": [
    {
     "name": "stdout",
     "output_type": "stream",
     "text": [
      "<class 'pandas.core.frame.DataFrame'>\n"
     ]
    }
   ],
   "source": [
    "print(type(pd_df))"
   ]
  },
  {
   "cell_type": "code",
   "execution_count": 39,
   "metadata": {},
   "outputs": [
    {
     "name": "stdout",
     "output_type": "stream",
     "text": [
      "<class 'pandas.core.series.Series'>\n"
     ]
    }
   ],
   "source": [
    "print(type(pd_df.year))"
   ]
  },
  {
   "cell_type": "code",
   "execution_count": 40,
   "metadata": {},
   "outputs": [
    {
     "name": "stdout",
     "output_type": "stream",
     "text": [
      "r1    2000\n",
      "r2    2001\n",
      "r3    2002\n",
      "r4    2001\n",
      "r5    2002\n",
      "r6    2003\n",
      "Name: year, dtype: int64\n"
     ]
    }
   ],
   "source": [
    "print(pd_df.year)"
   ]
  },
  {
   "cell_type": "markdown",
   "metadata": {},
   "source": [
    "**从dataframe中获得数组数据**"
   ]
  },
  {
   "cell_type": "code",
   "execution_count": 41,
   "metadata": {},
   "outputs": [
    {
     "name": "stdout",
     "output_type": "stream",
     "text": [
      "<class 'pandas.core.frame.DataFrame'>\n"
     ]
    }
   ],
   "source": [
    "print(type(pd_df))"
   ]
  },
  {
   "cell_type": "code",
   "execution_count": 42,
   "metadata": {},
   "outputs": [
    {
     "name": "stdout",
     "output_type": "stream",
     "text": [
      "<class 'numpy.ndarray'>\n"
     ]
    }
   ],
   "source": [
    "print(type(pd_df.year.values))"
   ]
  },
  {
   "cell_type": "code",
   "execution_count": 43,
   "metadata": {},
   "outputs": [
    {
     "name": "stdout",
     "output_type": "stream",
     "text": [
      "[2000 2001 2002 2001 2002 2003]\n"
     ]
    }
   ],
   "source": [
    "print(pd_df.year.values)"
   ]
  },
  {
   "cell_type": "markdown",
   "metadata": {},
   "source": [
    "# Dataframe统计分析\n",
    "dataframe的好用之处不仅在于它方便的获取行/列数据，更在于它提供的一些数据分析的内容。"
   ]
  },
  {
   "cell_type": "markdown",
   "metadata": {},
   "source": [
    "## 获取dataframe基本内容\n",
    "我们可以通过内置函数获得dataframe的类型，以及基本统计量的信息。"
   ]
  },
  {
   "cell_type": "markdown",
   "metadata": {},
   "source": [
    "**获取参数类型**"
   ]
  },
  {
   "cell_type": "code",
   "execution_count": 44,
   "metadata": {},
   "outputs": [
    {
     "name": "stdout",
     "output_type": "stream",
     "text": [
      "<class 'pandas.core.frame.DataFrame'>\n",
      "Index: 6 entries, r1 to r6\n",
      "Data columns (total 3 columns):\n",
      "pop      6 non-null float64\n",
      "state    6 non-null object\n",
      "year     6 non-null int64\n",
      "dtypes: float64(1), int64(1), object(1)\n",
      "memory usage: 352.0+ bytes\n",
      "None\n"
     ]
    }
   ],
   "source": [
    "print(pd_df.info())"
   ]
  },
  {
   "cell_type": "markdown",
   "metadata": {},
   "source": [
    "**获取基本统计量信息**"
   ]
  },
  {
   "cell_type": "code",
   "execution_count": 46,
   "metadata": {},
   "outputs": [
    {
     "name": "stdout",
     "output_type": "stream",
     "text": [
      "            pop         year\n",
      "count  6.000000     6.000000\n",
      "mean   2.533333  2001.500000\n",
      "std    0.821381     1.048809\n",
      "min    1.500000  2000.000000\n",
      "25%    1.875000  2001.000000\n",
      "50%    2.650000  2001.500000\n",
      "75%    3.050000  2002.000000\n",
      "max    3.600000  2003.000000\n"
     ]
    }
   ],
   "source": [
    "print(pd_df.describe())"
   ]
  },
  {
   "cell_type": "markdown",
   "metadata": {},
   "source": [
    "## 获得某列的统计量\n",
    "前面可以大致的了解到类型为数字类型的列的统计量，那么如果我想要针对性的获得某一列的统计量呢？"
   ]
  },
  {
   "cell_type": "code",
   "execution_count": 48,
   "metadata": {},
   "outputs": [
    {
     "name": "stdout",
     "output_type": "stream",
     "text": [
      "2001.5\n"
     ]
    }
   ],
   "source": [
    "print(pd_df.year.mean())"
   ]
  },
  {
   "cell_type": "code",
   "execution_count": 58,
   "metadata": {},
   "outputs": [
    {
     "name": "stdout",
     "output_type": "stream",
     "text": [
      "0.8213809510006101\n"
     ]
    }
   ],
   "source": [
    "print(pd_df['pop'].std()) # 这里把列名pop和方法pop搞混，所以必须这么写才能得到列数据"
   ]
  },
  {
   "cell_type": "markdown",
   "metadata": {},
   "source": [
    "## 排序，逻辑操作以及幅度计算\n",
    "dataframe同样提供以上操作"
   ]
  },
  {
   "cell_type": "markdown",
   "metadata": {},
   "source": [
    "**根据某一列，而不是index进行排序**\n",
    "\n",
    "注意，这里会返回一个排序过后的新的dataframe"
   ]
  },
  {
   "cell_type": "code",
   "execution_count": 65,
   "metadata": {},
   "outputs": [
    {
     "name": "stdout",
     "output_type": "stream",
     "text": [
      "    pop   state  year\n",
      "r1  1.5    Ohio  2000\n",
      "r2  1.7    Ohio  2001\n",
      "r4  2.4  Nevada  2001\n",
      "r5  2.9  Nevada  2002\n",
      "r6  3.1     AMD  2003\n",
      "r3  3.6    Ohio  2002\n"
     ]
    }
   ],
   "source": [
    "print(pd_df.sort_values(by='pop'))"
   ]
  },
  {
   "cell_type": "code",
   "execution_count": 61,
   "metadata": {},
   "outputs": [
    {
     "name": "stdout",
     "output_type": "stream",
     "text": [
      "    pop   state  year\n",
      "r1  1.5    Ohio  2000\n",
      "r2  1.7    Ohio  2001\n",
      "r3  3.6    Ohio  2002\n",
      "r4  2.4  Nevada  2001\n",
      "r5  2.9  Nevada  2002\n",
      "r6  3.1     AMD  2003\n"
     ]
    }
   ],
   "source": [
    "print(pd_df)"
   ]
  },
  {
   "cell_type": "markdown",
   "metadata": {},
   "source": [
    "**通过设置inplace属性，就可以在原dataframe上进行修改，而不产生新的dataframe**"
   ]
  },
  {
   "cell_type": "code",
   "execution_count": 66,
   "metadata": {},
   "outputs": [
    {
     "name": "stdout",
     "output_type": "stream",
     "text": [
      "    pop   state  year\n",
      "r1  1.5    Ohio  2000\n",
      "r2  1.7    Ohio  2001\n",
      "r4  2.4  Nevada  2001\n",
      "r5  2.9  Nevada  2002\n",
      "r6  3.1     AMD  2003\n",
      "r3  3.6    Ohio  2002\n"
     ]
    }
   ],
   "source": [
    "pd_df.sort_values(by='pop',inplace=True)\n",
    "print(pd_df)"
   ]
  },
  {
   "cell_type": "markdown",
   "metadata": {},
   "source": [
    "**逻辑操作**\n",
    "\n",
    "相比于numpy中的mask，只会将满足条件的那些数据点留下；\n",
    "\n",
    "pandas中，逻辑判断是以行为单位的，只要这一行中的那几列数据满足要求，这一行数据都会被保留。\n",
    "\n",
    "这里注意，复合条件必须用()包围"
   ]
  },
  {
   "cell_type": "code",
   "execution_count": 68,
   "metadata": {},
   "outputs": [
    {
     "name": "stdout",
     "output_type": "stream",
     "text": [
      "    pop   state  year\n",
      "r5  2.9  Nevada  2002\n",
      "r6  3.1     AMD  2003\n",
      "r3  3.6    Ohio  2002\n"
     ]
    }
   ],
   "source": [
    "print(pd_df[(pd_df.year>=2002) & (pd_df['pop']>=2.0)])"
   ]
  },
  {
   "cell_type": "markdown",
   "metadata": {},
   "source": [
    "**幅度计算**\n",
    "\n",
    "对于一些时序数据，特别是金融数据而言，我们经常会需要计算今天相对于昨天的涨跌幅度；\n",
    "\n",
    "而pandas考虑到了这个需求，方便的帮我们编写了这个方法。"
   ]
  },
  {
   "cell_type": "code",
   "execution_count": 70,
   "metadata": {},
   "outputs": [
    {
     "name": "stdout",
     "output_type": "stream",
     "text": [
      "    pop   state  year  pop_change\n",
      "r1  1.5    Ohio  2000         NaN\n",
      "r2  1.7    Ohio  2001    0.133333\n",
      "r4  2.4  Nevada  2001    0.411765\n",
      "r5  2.9  Nevada  2002    0.208333\n",
      "r6  3.1     AMD  2003    0.068966\n",
      "r3  3.6    Ohio  2002    0.161290\n"
     ]
    }
   ],
   "source": [
    "pd_df['pop_change']=pd_df['pop'].pct_change()\n",
    "print(pd_df)"
   ]
  },
  {
   "cell_type": "code",
   "execution_count": 71,
   "metadata": {},
   "outputs": [
    {
     "name": "stdout",
     "output_type": "stream",
     "text": [
      "0.13333333333333333\n"
     ]
    }
   ],
   "source": [
    "print(0.2/1.5)"
   ]
  },
  {
   "cell_type": "markdown",
   "metadata": {},
   "source": [
    "# Dataframe填补空值\n",
    "在上面关于幅度计算的过程中，我们发现有一个地方出现了NaN的标志，它表示，本该是数字的地方出现了非数字的情况。\n",
    "\n",
    "那么一般对于这种情况，我们有两种处理办法：\n",
    "\n",
    "    1.删除\n",
    "    2.填补"
   ]
  },
  {
   "cell_type": "markdown",
   "metadata": {},
   "source": [
    "## 删除\n",
    "删除非数字，由于dataframe的表结构，我们要么把dataframe所在的这一行删了，要么把dataframe所在的这一列删了；\n",
    "而对于删除条件，也有两种，一种是这一行/列存在NaN就删除，一种是这一行/列都是NaN才删除。"
   ]
  },
  {
   "cell_type": "markdown",
   "metadata": {},
   "source": [
    "**只要这一列有NaN，就删除这一列**"
   ]
  },
  {
   "cell_type": "code",
   "execution_count": 74,
   "metadata": {},
   "outputs": [
    {
     "name": "stdout",
     "output_type": "stream",
     "text": [
      "    pop   state  year\n",
      "r1  1.5    Ohio  2000\n",
      "r2  1.7    Ohio  2001\n",
      "r4  2.4  Nevada  2001\n",
      "r5  2.9  Nevada  2002\n",
      "r6  3.1     AMD  2003\n",
      "r3  3.6    Ohio  2002\n"
     ]
    }
   ],
   "source": [
    "print(pd_df.dropna(axis=1))"
   ]
  },
  {
   "cell_type": "markdown",
   "metadata": {},
   "source": [
    "**如果这一行都是NaN，那么就删除这一行**\n",
    "（这里就删不掉了）"
   ]
  },
  {
   "cell_type": "code",
   "execution_count": 75,
   "metadata": {},
   "outputs": [
    {
     "name": "stdout",
     "output_type": "stream",
     "text": [
      "    pop   state  year  pop_change\n",
      "r1  1.5    Ohio  2000         NaN\n",
      "r2  1.7    Ohio  2001    0.133333\n",
      "r4  2.4  Nevada  2001    0.411765\n",
      "r5  2.9  Nevada  2002    0.208333\n",
      "r6  3.1     AMD  2003    0.068966\n",
      "r3  3.6    Ohio  2002    0.161290\n"
     ]
    }
   ],
   "source": [
    "print(pd_df.dropna(how='all',axis=0))"
   ]
  },
  {
   "cell_type": "markdown",
   "metadata": {},
   "source": [
    "## 填补\n",
    "填补在我看来是一种更为优雅的方式，它可以用你的指定值，来替换空值。"
   ]
  },
  {
   "cell_type": "code",
   "execution_count": 76,
   "metadata": {},
   "outputs": [
    {
     "name": "stdout",
     "output_type": "stream",
     "text": [
      "    pop   state  year  pop_change\n",
      "r1  1.5    Ohio  2000    0.000000\n",
      "r2  1.7    Ohio  2001    0.133333\n",
      "r4  2.4  Nevada  2001    0.411765\n",
      "r5  2.9  Nevada  2002    0.208333\n",
      "r6  3.1     AMD  2003    0.068966\n",
      "r3  3.6    Ohio  2002    0.161290\n"
     ]
    }
   ],
   "source": [
    "print(pd_df.fillna(0))"
   ]
  },
  {
   "cell_type": "code",
   "execution_count": 78,
   "metadata": {},
   "outputs": [
    {
     "name": "stdout",
     "output_type": "stream",
     "text": [
      "    pop   state  year  pop_change\n",
      "r1  1.5    Ohio  2000    0.196737\n",
      "r2  1.7    Ohio  2001    0.133333\n",
      "r4  2.4  Nevada  2001    0.411765\n",
      "r5  2.9  Nevada  2002    0.208333\n",
      "r6  3.1     AMD  2003    0.068966\n",
      "r3  3.6    Ohio  2002    0.161290\n"
     ]
    }
   ],
   "source": [
    "# 用均值来替换\n",
    "print(pd_df.fillna(pd_df.pop_change.mean()))"
   ]
  },
  {
   "cell_type": "markdown",
   "metadata": {},
   "source": [
    "# 连接\n",
    "当我们想把series连到已有dataframe后面的时候，可以直接通过dataframe['列名']=series的方式操作\n",
    "但是如果我们想把一个dataframe连到另一个dataframe后面时，应该怎么办呢？"
   ]
  },
  {
   "cell_type": "markdown",
   "metadata": {},
   "source": [
    "**使用concat连接两个dataframe**"
   ]
  },
  {
   "cell_type": "code",
   "execution_count": 94,
   "metadata": {},
   "outputs": [
    {
     "name": "stdout",
     "output_type": "stream",
     "text": [
      "    pop2  state2  year2\n",
      "r1   1.5    Ohio   2000\n",
      "r2   1.7    Ohio   2001\n",
      "r3   3.6    Ohio   2002\n",
      "r4   2.4  Nevada   2001\n",
      "r5   2.9  Nevada   2002\n",
      "r6   3.1     AMD   2003\n"
     ]
    }
   ],
   "source": [
    "# 创建新的dataframe\n",
    "dic={'state2': ['Ohio', 'Ohio', 'Ohio', 'Nevada', 'Nevada','AMD'],\n",
    "    'year2': [2000, 2001, 2002, 2001, 2002,2003],\n",
    "    'pop2': [1.5, 1.7, 3.6, 2.4, 2.9,3.1]}\n",
    "index_list=['r1','r2','r3','r4','r5','r6']\n",
    "pd_df2=pd.DataFrame(dic,index=index_list)\n",
    "print(pd_df2)"
   ]
  },
  {
   "cell_type": "code",
   "execution_count": 97,
   "metadata": {},
   "outputs": [
    {
     "name": "stdout",
     "output_type": "stream",
     "text": [
      "    pop   state  year  pop_change  pop2  state2  year2\n",
      "r1  1.5    Ohio  2000         NaN   1.5    Ohio   2000\n",
      "r2  1.7    Ohio  2001    0.133333   1.7    Ohio   2001\n",
      "r3  3.6    Ohio  2002    0.161290   3.6    Ohio   2002\n",
      "r4  2.4  Nevada  2001    0.411765   2.4  Nevada   2001\n",
      "r5  2.9  Nevada  2002    0.208333   2.9  Nevada   2002\n",
      "r6  3.1     AMD  2003    0.068966   3.1     AMD   2003\n"
     ]
    }
   ],
   "source": [
    "print(pd.concat([pd_df,pd_df2],axis=1))"
   ]
  },
  {
   "cell_type": "code",
   "execution_count": null,
   "metadata": {},
   "outputs": [],
   "source": []
  }
 ],
 "metadata": {
  "kernelspec": {
   "display_name": "Python 3",
   "language": "python",
   "name": "python3"
  },
  "language_info": {
   "codemirror_mode": {
    "name": "ipython",
    "version": 3
   },
   "file_extension": ".py",
   "mimetype": "text/x-python",
   "name": "python",
   "nbconvert_exporter": "python",
   "pygments_lexer": "ipython3",
   "version": "3.6.3"
  },
  "toc": {
   "nav_menu": {},
   "number_sections": true,
   "sideBar": true,
   "skip_h1_title": false,
   "toc_cell": false,
   "toc_position": {
    "height": "796px",
    "left": "0px",
    "right": "1154px",
    "top": "110px",
    "width": "170px"
   },
   "toc_section_display": "block",
   "toc_window_display": true
  }
 },
 "nbformat": 4,
 "nbformat_minor": 2
}
